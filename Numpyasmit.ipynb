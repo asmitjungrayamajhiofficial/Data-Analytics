{
 "cells": [
  {
   "cell_type": "markdown",
   "id": "60f1b593-5424-4e17-86d3-afbeba293317",
   "metadata": {},
   "source": [
    "## DataTypes and Attributes\n"
   ]
  },
  {
   "cell_type": "code",
   "execution_count": 124,
   "id": "dfcd909f-fac3-4c5b-a1f8-f3fdee3fc6f2",
   "metadata": {},
   "outputs": [],
   "source": [
    "import numpy as np\n",
    "import pandas as pd"
   ]
  },
  {
   "cell_type": "code",
   "execution_count": 125,
   "id": "7b5187c4-3532-47e2-aa24-eb9bebdef738",
   "metadata": {},
   "outputs": [
    {
     "data": {
      "text/plain": [
       "array([1, 2, 3])"
      ]
     },
     "execution_count": 125,
     "metadata": {},
     "output_type": "execute_result"
    }
   ],
   "source": [
    "# Numpy 's main datatype is ndarray\n",
    "a1 = np.array([1, 2, 3])\n",
    "a1\n"
   ]
  },
  {
   "cell_type": "code",
   "execution_count": 126,
   "id": "0e7a1d45-2da0-4d7c-86e8-e8bca3c68d63",
   "metadata": {},
   "outputs": [
    {
     "data": {
      "text/plain": [
       "array([[1, 2, 3],\n",
       "       [3, 7, 4]])"
      ]
     },
     "execution_count": 126,
     "metadata": {},
     "output_type": "execute_result"
    }
   ],
   "source": [
    "a2 = np.array([[1, 2, 3],\n",
    "             [3, 7, 4]])\n",
    "a2"
   ]
  },
  {
   "cell_type": "code",
   "execution_count": 127,
   "id": "13b6c6c0-eae5-4774-bc40-0b409f0e7c6d",
   "metadata": {},
   "outputs": [
    {
     "data": {
      "text/plain": [
       "dtype('int32')"
      ]
     },
     "execution_count": 127,
     "metadata": {},
     "output_type": "execute_result"
    }
   ],
   "source": [
    "a2.dtype"
   ]
  },
  {
   "cell_type": "code",
   "execution_count": 128,
   "id": "b3895779-6e81-4db3-af9a-90740b9bf1c8",
   "metadata": {},
   "outputs": [
    {
     "data": {
      "text/plain": [
       "numpy.ndarray"
      ]
     },
     "execution_count": 128,
     "metadata": {},
     "output_type": "execute_result"
    }
   ],
   "source": [
    "type(a2)\n"
   ]
  },
  {
   "cell_type": "code",
   "execution_count": 129,
   "id": "a34e52ac-3b33-465e-9bac-9a7738b00422",
   "metadata": {},
   "outputs": [
    {
     "data": {
      "text/plain": [
       "array([[[ 1,  2,  3],\n",
       "        [ 4,  5,  6],\n",
       "        [ 7,  8,  9]],\n",
       "\n",
       "       [[10, 11, 12],\n",
       "        [13, 14, 15],\n",
       "        [16, 17, 18]]])"
      ]
     },
     "execution_count": 129,
     "metadata": {},
     "output_type": "execute_result"
    }
   ],
   "source": [
    "a3= np.array ([[ [1, 2, 3],\n",
    "                [4, 5, 6],\n",
    "                [7, 8, 9]] ,\n",
    "                [[10, 11, 12],\n",
    "                [13, 14, 15],\n",
    "                [16, 17, 18] ]])\n",
    "a3\n",
    "                 "
   ]
  },
  {
   "cell_type": "code",
   "execution_count": 130,
   "id": "dadd3753-b52e-4542-8a43-29d72c0bfa5f",
   "metadata": {},
   "outputs": [
    {
     "data": {
      "text/plain": [
       "(3, 6, 18)"
      ]
     },
     "execution_count": 130,
     "metadata": {},
     "output_type": "execute_result"
    }
   ],
   "source": [
    "a1.size, a2.size, a3.size"
   ]
  },
  {
   "cell_type": "code",
   "execution_count": 131,
   "id": "e66ac687-cae9-4e54-86be-b6bb908e7341",
   "metadata": {},
   "outputs": [
    {
     "data": {
      "text/html": [
       "<div>\n",
       "<style scoped>\n",
       "    .dataframe tbody tr th:only-of-type {\n",
       "        vertical-align: middle;\n",
       "    }\n",
       "\n",
       "    .dataframe tbody tr th {\n",
       "        vertical-align: top;\n",
       "    }\n",
       "\n",
       "    .dataframe thead th {\n",
       "        text-align: right;\n",
       "    }\n",
       "</style>\n",
       "<table border=\"1\" class=\"dataframe\">\n",
       "  <thead>\n",
       "    <tr style=\"text-align: right;\">\n",
       "      <th></th>\n",
       "      <th>0</th>\n",
       "      <th>1</th>\n",
       "      <th>2</th>\n",
       "    </tr>\n",
       "  </thead>\n",
       "  <tbody>\n",
       "    <tr>\n",
       "      <th>0</th>\n",
       "      <td>1</td>\n",
       "      <td>2</td>\n",
       "      <td>3</td>\n",
       "    </tr>\n",
       "    <tr>\n",
       "      <th>1</th>\n",
       "      <td>3</td>\n",
       "      <td>7</td>\n",
       "      <td>4</td>\n",
       "    </tr>\n",
       "  </tbody>\n",
       "</table>\n",
       "</div>"
      ],
      "text/plain": [
       "   0  1  2\n",
       "0  1  2  3\n",
       "1  3  7  4"
      ]
     },
     "execution_count": 131,
     "metadata": {},
     "output_type": "execute_result"
    }
   ],
   "source": [
    "# Create a DataFrame from a Numpy array\n",
    "import pandas as pd\n",
    "\n",
    "df = pd.DataFrame(a2)\n",
    "df"
   ]
  },
  {
   "cell_type": "markdown",
   "id": "dc3931fa-836e-47a0-8344-65313f43314f",
   "metadata": {},
   "source": [
    "## 2. Creating arrays"
   ]
  },
  {
   "cell_type": "code",
   "execution_count": 132,
   "id": "da891b54-6fac-46ad-94ba-14191212c4a0",
   "metadata": {},
   "outputs": [
    {
     "data": {
      "text/plain": [
       "array([1, 2, 3])"
      ]
     },
     "execution_count": 132,
     "metadata": {},
     "output_type": "execute_result"
    }
   ],
   "source": [
    "sample_array = np.array([1, 2, 3])\n",
    "sample_array"
   ]
  },
  {
   "cell_type": "code",
   "execution_count": 133,
   "id": "c3a55c25-cfe5-4b1b-921f-efafbcea64a1",
   "metadata": {},
   "outputs": [
    {
     "data": {
      "text/plain": [
       "dtype('int32')"
      ]
     },
     "execution_count": 133,
     "metadata": {},
     "output_type": "execute_result"
    }
   ],
   "source": [
    "sample_array.dtype"
   ]
  },
  {
   "cell_type": "code",
   "execution_count": 134,
   "id": "b9bfc72f-f5bb-488a-ab7b-7925eff41f23",
   "metadata": {},
   "outputs": [
    {
     "data": {
      "text/plain": [
       "array([[1., 1., 1.],\n",
       "       [1., 1., 1.]])"
      ]
     },
     "execution_count": 134,
     "metadata": {},
     "output_type": "execute_result"
    }
   ],
   "source": [
    "ones= np.ones((2,3))\n",
    "ones"
   ]
  },
  {
   "cell_type": "code",
   "execution_count": 135,
   "id": "08ae660d-cf39-4e0a-a195-7d3a821a54a5",
   "metadata": {},
   "outputs": [
    {
     "data": {
      "text/plain": [
       "dtype('float64')"
      ]
     },
     "execution_count": 135,
     "metadata": {},
     "output_type": "execute_result"
    }
   ],
   "source": [
    "ones.dtype"
   ]
  },
  {
   "cell_type": "code",
   "execution_count": 136,
   "id": "52082913-2ab9-4a8a-86a5-48eeb241fb65",
   "metadata": {},
   "outputs": [
    {
     "data": {
      "text/plain": [
       "numpy.ndarray"
      ]
     },
     "execution_count": 136,
     "metadata": {},
     "output_type": "execute_result"
    }
   ],
   "source": [
    "type(ones)"
   ]
  },
  {
   "cell_type": "code",
   "execution_count": 137,
   "id": "b1dee32e-c20b-4084-b670-c598570c0230",
   "metadata": {},
   "outputs": [
    {
     "data": {
      "text/plain": [
       "array([[0., 0., 0.],\n",
       "       [0., 0., 0.]])"
      ]
     },
     "execution_count": 137,
     "metadata": {},
     "output_type": "execute_result"
    }
   ],
   "source": [
    "zeros= np.zeros((2,3))\n",
    "zeros"
   ]
  },
  {
   "cell_type": "code",
   "execution_count": 138,
   "id": "f6e2641b-43fb-4073-826e-9c8e12da7612",
   "metadata": {},
   "outputs": [
    {
     "data": {
      "text/plain": [
       "array([1, 3, 5, 7, 9])"
      ]
     },
     "execution_count": 138,
     "metadata": {},
     "output_type": "execute_result"
    }
   ],
   "source": [
    "range_array = np.arange(1,10,2)\n",
    "range_array"
   ]
  },
  {
   "cell_type": "code",
   "execution_count": 139,
   "id": "704090f4-e587-4f0b-84a1-331b1a88f8d1",
   "metadata": {},
   "outputs": [
    {
     "data": {
      "text/plain": [
       "array([[7, 8, 1],\n",
       "       [5, 9, 8],\n",
       "       [9, 4, 3]])"
      ]
     },
     "execution_count": 139,
     "metadata": {},
     "output_type": "execute_result"
    }
   ],
   "source": [
    "random_array = np.random.randint(0, 10, size=(3,3))\n",
    "random_array"
   ]
  },
  {
   "cell_type": "code",
   "execution_count": 140,
   "id": "74a9bc1f-10ee-4198-89e6-2e2d882bf16e",
   "metadata": {},
   "outputs": [
    {
     "data": {
      "text/plain": [
       "9"
      ]
     },
     "execution_count": 140,
     "metadata": {},
     "output_type": "execute_result"
    }
   ],
   "source": [
    "random_array.size"
   ]
  },
  {
   "cell_type": "code",
   "execution_count": 141,
   "id": "0818c42a-6bcc-40eb-bad8-dc1f85d02c4d",
   "metadata": {},
   "outputs": [
    {
     "data": {
      "text/plain": [
       "(3, 3)"
      ]
     },
     "execution_count": 141,
     "metadata": {},
     "output_type": "execute_result"
    }
   ],
   "source": [
    "random_array.shape"
   ]
  },
  {
   "cell_type": "code",
   "execution_count": 142,
   "id": "9c2815bd-4754-4d33-abcd-270a36ec7045",
   "metadata": {},
   "outputs": [
    {
     "data": {
      "text/plain": [
       "array([[0.36824154, 0.95715516, 0.14035078],\n",
       "       [0.87008726, 0.47360805, 0.80091075],\n",
       "       [0.52047748, 0.67887953, 0.72063265]])"
      ]
     },
     "execution_count": 142,
     "metadata": {},
     "output_type": "execute_result"
    }
   ],
   "source": [
    "random_array = np.random.random(size=(3,3))\n",
    "random_array"
   ]
  },
  {
   "cell_type": "code",
   "execution_count": 143,
   "id": "85a853bf-2282-42c6-8412-6c3ba5d68f21",
   "metadata": {},
   "outputs": [
    {
     "data": {
      "text/plain": [
       "9"
      ]
     },
     "execution_count": 143,
     "metadata": {},
     "output_type": "execute_result"
    }
   ],
   "source": [
    "random_array.size"
   ]
  },
  {
   "cell_type": "code",
   "execution_count": 144,
   "id": "ca926f88-3bb0-4d89-b067-ba416f6b9903",
   "metadata": {},
   "outputs": [
    {
     "data": {
      "text/plain": [
       "dtype('float64')"
      ]
     },
     "execution_count": 144,
     "metadata": {},
     "output_type": "execute_result"
    }
   ],
   "source": [
    "random_array.dtype"
   ]
  },
  {
   "cell_type": "code",
   "execution_count": 145,
   "id": "a93c8137-305d-47bd-828c-83a546cd0369",
   "metadata": {},
   "outputs": [
    {
     "data": {
      "text/plain": [
       "array([[0.58201979, 0.53737323, 0.75861562],\n",
       "       [0.10590761, 0.47360042, 0.18633234],\n",
       "       [0.73691818, 0.21655035, 0.13521817],\n",
       "       [0.32414101, 0.14967487, 0.22232139],\n",
       "       [0.38648898, 0.90259848, 0.44994999]])"
      ]
     },
     "execution_count": 145,
     "metadata": {},
     "output_type": "execute_result"
    }
   ],
   "source": [
    "random_array = np.random.rand(5,3)\n",
    "random_array"
   ]
  },
  {
   "cell_type": "code",
   "execution_count": 146,
   "id": "26f49f68-33c7-40b7-8cde-bc41ab6661b1",
   "metadata": {},
   "outputs": [
    {
     "data": {
      "text/plain": [
       "array([[3, 6, 6],\n",
       "       [0, 9, 8],\n",
       "       [4, 7, 0]])"
      ]
     },
     "execution_count": 146,
     "metadata": {},
     "output_type": "execute_result"
    }
   ],
   "source": [
    "#Pseudo-random numbers\n",
    "#go to seed and click shift + tab\n",
    "np.random.seed(5)\n",
    "random_array = np.random.randint(0, 10, size=(3,3))\n",
    "random_array"
   ]
  },
  {
   "cell_type": "code",
   "execution_count": 147,
   "id": "1177388c-be48-4046-a38c-10df2f200b4b",
   "metadata": {},
   "outputs": [
    {
     "data": {
      "text/plain": [
       "<function numpy.random.mtrand.seed>"
      ]
     },
     "execution_count": 147,
     "metadata": {},
     "output_type": "execute_result"
    }
   ],
   "source": [
    "np.random.seed"
   ]
  },
  {
   "cell_type": "markdown",
   "id": "a76cf18b-6c9d-4512-a0ae-3af232f1fc92",
   "metadata": {},
   "source": [
    "## 3. Viewing arrays and matrix"
   ]
  },
  {
   "cell_type": "code",
   "execution_count": 148,
   "id": "414fec99-4dd7-4137-847c-5739c168dea2",
   "metadata": {},
   "outputs": [
    {
     "data": {
      "text/plain": [
       "array([0, 3, 4, 6, 7, 8, 9])"
      ]
     },
     "execution_count": 148,
     "metadata": {},
     "output_type": "execute_result"
    }
   ],
   "source": [
    "np.unique(random_array)"
   ]
  },
  {
   "cell_type": "code",
   "execution_count": 149,
   "id": "8cb2199b-d158-4ec9-830d-076f97e0b91a",
   "metadata": {},
   "outputs": [
    {
     "data": {
      "text/plain": [
       "array([1, 2, 3])"
      ]
     },
     "execution_count": 149,
     "metadata": {},
     "output_type": "execute_result"
    }
   ],
   "source": [
    "a1"
   ]
  },
  {
   "cell_type": "code",
   "execution_count": 150,
   "id": "e3a2a05b-d706-44f4-82a7-14e961e16e7e",
   "metadata": {},
   "outputs": [
    {
     "data": {
      "text/plain": [
       "array([[1, 2, 3],\n",
       "       [3, 7, 4]])"
      ]
     },
     "execution_count": 150,
     "metadata": {},
     "output_type": "execute_result"
    }
   ],
   "source": [
    "a2"
   ]
  },
  {
   "cell_type": "code",
   "execution_count": 151,
   "id": "969213f2-b798-4dbc-ad2f-73964f92853d",
   "metadata": {},
   "outputs": [
    {
     "data": {
      "text/plain": [
       "array([[[ 1,  2,  3],\n",
       "        [ 4,  5,  6],\n",
       "        [ 7,  8,  9]],\n",
       "\n",
       "       [[10, 11, 12],\n",
       "        [13, 14, 15],\n",
       "        [16, 17, 18]]])"
      ]
     },
     "execution_count": 151,
     "metadata": {},
     "output_type": "execute_result"
    }
   ],
   "source": [
    "a3"
   ]
  },
  {
   "cell_type": "code",
   "execution_count": 152,
   "id": "0406732d-63bd-4257-9953-7c7f9ea5b7d2",
   "metadata": {},
   "outputs": [
    {
     "data": {
      "text/plain": [
       "2"
      ]
     },
     "execution_count": 152,
     "metadata": {},
     "output_type": "execute_result"
    }
   ],
   "source": [
    "a1[1]"
   ]
  },
  {
   "cell_type": "code",
   "execution_count": 153,
   "id": "d0a0de53-b5f9-43bb-9e04-2ebbef2dcadc",
   "metadata": {},
   "outputs": [
    {
     "data": {
      "text/plain": [
       "array([1, 2, 3])"
      ]
     },
     "execution_count": 153,
     "metadata": {},
     "output_type": "execute_result"
    }
   ],
   "source": [
    "a2[0]"
   ]
  },
  {
   "cell_type": "code",
   "execution_count": 154,
   "id": "39cc1af4-db5d-4bf0-b4ec-6b4daa77ac1f",
   "metadata": {},
   "outputs": [
    {
     "data": {
      "text/plain": [
       "array([[1, 2, 3],\n",
       "       [4, 5, 6],\n",
       "       [7, 8, 9]])"
      ]
     },
     "execution_count": 154,
     "metadata": {},
     "output_type": "execute_result"
    }
   ],
   "source": [
    "a3[0]"
   ]
  },
  {
   "cell_type": "code",
   "execution_count": 155,
   "id": "2f779b86-82cb-4e48-ae19-b1c6ef3fc56f",
   "metadata": {},
   "outputs": [
    {
     "data": {
      "text/plain": [
       "array([[[ 1,  2,  3],\n",
       "        [ 4,  5,  6]],\n",
       "\n",
       "       [[10, 11, 12],\n",
       "        [13, 14, 15]]])"
      ]
     },
     "execution_count": 155,
     "metadata": {},
     "output_type": "execute_result"
    }
   ],
   "source": [
    "a3[:4, :2, :3]"
   ]
  },
  {
   "cell_type": "code",
   "execution_count": 156,
   "id": "0af13173-39d5-4720-971a-b3558c2d1867",
   "metadata": {},
   "outputs": [],
   "source": [
    "a4= np.random.randint( 9,  size=(5,4,2,3))"
   ]
  },
  {
   "cell_type": "code",
   "execution_count": 157,
   "id": "f1d50747-6427-458b-88c3-b54e1880382b",
   "metadata": {},
   "outputs": [
    {
     "data": {
      "text/plain": [
       "array([[[[0, 7, 1],\n",
       "         [5, 7, 0]],\n",
       "\n",
       "        [[1, 4, 6],\n",
       "         [2, 1, 2]],\n",
       "\n",
       "        [[7, 0, 5],\n",
       "         [0, 0, 4]],\n",
       "\n",
       "        [[4, 3, 2],\n",
       "         [4, 6, 3]]],\n",
       "\n",
       "\n",
       "       [[[3, 2, 1],\n",
       "         [5, 7, 4]],\n",
       "\n",
       "        [[3, 1, 7],\n",
       "         [3, 1, 5]],\n",
       "\n",
       "        [[7, 0, 6],\n",
       "         [0, 5, 2]],\n",
       "\n",
       "        [[8, 6, 8],\n",
       "         [0, 5, 2]]],\n",
       "\n",
       "\n",
       "       [[[0, 7, 7],\n",
       "         [6, 0, 0]],\n",
       "\n",
       "        [[8, 5, 5],\n",
       "         [6, 4, 5]],\n",
       "\n",
       "        [[2, 8, 8],\n",
       "         [1, 6, 3]],\n",
       "\n",
       "        [[4, 1, 8],\n",
       "         [0, 2, 2]]],\n",
       "\n",
       "\n",
       "       [[[4, 1, 6],\n",
       "         [3, 4, 3]],\n",
       "\n",
       "        [[1, 4, 2],\n",
       "         [3, 4, 4]],\n",
       "\n",
       "        [[0, 6, 6],\n",
       "         [2, 3, 0]],\n",
       "\n",
       "        [[8, 8, 7],\n",
       "         [4, 8, 6]]],\n",
       "\n",
       "\n",
       "       [[[8, 0, 5],\n",
       "         [3, 4, 0]],\n",
       "\n",
       "        [[2, 2, 1],\n",
       "         [1, 7, 1]],\n",
       "\n",
       "        [[7, 2, 6],\n",
       "         [3, 6, 8]],\n",
       "\n",
       "        [[0, 1, 0],\n",
       "         [8, 7, 7]]]])"
      ]
     },
     "execution_count": 157,
     "metadata": {},
     "output_type": "execute_result"
    }
   ],
   "source": [
    "#### \n",
    "a4"
   ]
  },
  {
   "cell_type": "code",
   "execution_count": 158,
   "id": "29d1a9a1-4715-4282-9c36-f4dfe5228832",
   "metadata": {},
   "outputs": [
    {
     "data": {
      "text/plain": [
       "array([[[[0, 7, 1],\n",
       "         [5, 7, 0]],\n",
       "\n",
       "        [[1, 4, 6],\n",
       "         [2, 1, 2]],\n",
       "\n",
       "        [[7, 0, 5],\n",
       "         [0, 0, 4]]]])"
      ]
     },
     "execution_count": 158,
     "metadata": {},
     "output_type": "execute_result"
    }
   ],
   "source": [
    "a4[:1, :3, :4]"
   ]
  },
  {
   "cell_type": "code",
   "execution_count": 159,
   "id": "bc0295f5-583d-439f-8ec2-753beb600e18",
   "metadata": {},
   "outputs": [
    {
     "data": {
      "text/plain": [
       "((5, 4, 2, 3), 120, 4)"
      ]
     },
     "execution_count": 159,
     "metadata": {},
     "output_type": "execute_result"
    }
   ],
   "source": [
    "a4.shape, a4.size, a4.ndim"
   ]
  },
  {
   "cell_type": "markdown",
   "id": "3920618d-0956-419b-a1cc-d91f0f9e29d8",
   "metadata": {},
   "source": [
    "## 4. Manipulating & Comparing arrays"
   ]
  },
  {
   "cell_type": "markdown",
   "id": "e3a2515c-df9e-4901-93d2-46d76a91f030",
   "metadata": {},
   "source": [
    "## Arithmetic"
   ]
  },
  {
   "cell_type": "code",
   "execution_count": 160,
   "id": "f7311b11-347d-41c2-895d-fbc0c60c35c2",
   "metadata": {},
   "outputs": [
    {
     "data": {
      "text/plain": [
       "array([1, 2, 3])"
      ]
     },
     "execution_count": 160,
     "metadata": {},
     "output_type": "execute_result"
    }
   ],
   "source": [
    "a1"
   ]
  },
  {
   "cell_type": "code",
   "execution_count": 161,
   "id": "0ec1ea29-cca6-4032-8543-43aa93ff6752",
   "metadata": {},
   "outputs": [
    {
     "data": {
      "text/plain": [
       "array([1., 1., 1.])"
      ]
     },
     "execution_count": 161,
     "metadata": {},
     "output_type": "execute_result"
    }
   ],
   "source": [
    "ones= np.ones(3)\n",
    "ones"
   ]
  },
  {
   "cell_type": "code",
   "execution_count": 162,
   "id": "188d2845-182d-4072-a1d2-e326bcdcb6a6",
   "metadata": {},
   "outputs": [
    {
     "data": {
      "text/plain": [
       "array([2., 3., 4.])"
      ]
     },
     "execution_count": 162,
     "metadata": {},
     "output_type": "execute_result"
    }
   ],
   "source": [
    "a1+ones"
   ]
  },
  {
   "cell_type": "code",
   "execution_count": 163,
   "id": "2323d473-474c-428d-a111-a4956652faf2",
   "metadata": {},
   "outputs": [
    {
     "data": {
      "text/plain": [
       "array([0., 1., 2.])"
      ]
     },
     "execution_count": 163,
     "metadata": {},
     "output_type": "execute_result"
    }
   ],
   "source": [
    "a1-ones"
   ]
  },
  {
   "cell_type": "code",
   "execution_count": 164,
   "id": "c722f85b-1817-424c-aa03-470907fcee17",
   "metadata": {},
   "outputs": [
    {
     "data": {
      "text/plain": [
       "array([[2., 3., 4.],\n",
       "       [4., 8., 5.]])"
      ]
     },
     "execution_count": 164,
     "metadata": {},
     "output_type": "execute_result"
    }
   ],
   "source": [
    "a2+ones"
   ]
  },
  {
   "cell_type": "code",
   "execution_count": 165,
   "id": "b35093c8-4b50-40f1-ad11-8ce908c3cdfa",
   "metadata": {},
   "outputs": [
    {
     "data": {
      "text/plain": [
       "array([[1, 2, 3],\n",
       "       [3, 7, 4]])"
      ]
     },
     "execution_count": 165,
     "metadata": {},
     "output_type": "execute_result"
    }
   ],
   "source": [
    "a2\n"
   ]
  },
  {
   "cell_type": "code",
   "execution_count": 166,
   "id": "2881ad76-0149-4eb5-a078-259d44ca51ca",
   "metadata": {},
   "outputs": [
    {
     "data": {
      "text/plain": [
       "array([[2, 4, 6],\n",
       "       [4, 9, 7]])"
      ]
     },
     "execution_count": 166,
     "metadata": {},
     "output_type": "execute_result"
    }
   ],
   "source": [
    "a1+a2"
   ]
  },
  {
   "cell_type": "code",
   "execution_count": 167,
   "id": "5cb80c15-d1a4-4c76-842c-74fbf0e886d3",
   "metadata": {},
   "outputs": [
    {
     "data": {
      "text/plain": [
       "array([[ 1,  4,  9],\n",
       "       [ 3, 14, 12]])"
      ]
     },
     "execution_count": 167,
     "metadata": {},
     "output_type": "execute_result"
    }
   ],
   "source": [
    "a1*a2"
   ]
  },
  {
   "cell_type": "code",
   "execution_count": 168,
   "id": "365ebfa5-7db7-48f8-a54f-86b950a32194",
   "metadata": {},
   "outputs": [
    {
     "data": {
      "text/plain": [
       "array([1, 2, 3])"
      ]
     },
     "execution_count": 168,
     "metadata": {},
     "output_type": "execute_result"
    }
   ],
   "source": [
    "a1"
   ]
  },
  {
   "cell_type": "code",
   "execution_count": 169,
   "id": "9a2d423e-b04c-48b9-86a8-c4ee3ebaf6c4",
   "metadata": {},
   "outputs": [
    {
     "data": {
      "text/plain": [
       "array([[1, 2, 3],\n",
       "       [3, 7, 4]])"
      ]
     },
     "execution_count": 169,
     "metadata": {},
     "output_type": "execute_result"
    }
   ],
   "source": [
    "a2"
   ]
  },
  {
   "cell_type": "code",
   "execution_count": 170,
   "id": "90bac47c-6333-48bf-ae8d-9c89dd8497d1",
   "metadata": {},
   "outputs": [
    {
     "data": {
      "text/plain": [
       "array([[[ 1,  2,  3],\n",
       "        [ 4,  5,  6],\n",
       "        [ 7,  8,  9]],\n",
       "\n",
       "       [[10, 11, 12],\n",
       "        [13, 14, 15],\n",
       "        [16, 17, 18]]])"
      ]
     },
     "execution_count": 170,
     "metadata": {},
     "output_type": "execute_result"
    }
   ],
   "source": [
    "a3"
   ]
  },
  {
   "cell_type": "code",
   "execution_count": 171,
   "id": "c8dbaf31-c2d1-474f-b118-3580ef19ed4f",
   "metadata": {},
   "outputs": [],
   "source": [
    "# reshaping helps to multiply 2,3 to 3,3,2\n",
    "a2_reshaped = a2.reshape(2,3,1)"
   ]
  },
  {
   "cell_type": "code",
   "execution_count": 172,
   "id": "65f3d867-5145-4046-8856-75ac68666170",
   "metadata": {},
   "outputs": [
    {
     "data": {
      "text/plain": [
       "array([[[1],\n",
       "        [2],\n",
       "        [3]],\n",
       "\n",
       "       [[3],\n",
       "        [7],\n",
       "        [4]]])"
      ]
     },
     "execution_count": 172,
     "metadata": {},
     "output_type": "execute_result"
    }
   ],
   "source": [
    "a2_reshaped"
   ]
  },
  {
   "cell_type": "code",
   "execution_count": 173,
   "id": "3f07b276-c9a5-4142-a9f8-e21074849c31",
   "metadata": {},
   "outputs": [
    {
     "data": {
      "text/plain": [
       "array([[[  1,   2,   3],\n",
       "        [  8,  10,  12],\n",
       "        [ 21,  24,  27]],\n",
       "\n",
       "       [[ 30,  33,  36],\n",
       "        [ 91,  98, 105],\n",
       "        [ 64,  68,  72]]])"
      ]
     },
     "execution_count": 173,
     "metadata": {},
     "output_type": "execute_result"
    }
   ],
   "source": [
    "a2_reshaped*a3"
   ]
  },
  {
   "cell_type": "code",
   "execution_count": 174,
   "id": "f5583681-5bd5-48c9-87c4-05445edf6c6e",
   "metadata": {},
   "outputs": [
    {
     "data": {
      "text/plain": [
       "array([[1.        , 1.        , 1.        ],\n",
       "       [3.        , 3.5       , 1.33333333]])"
      ]
     },
     "execution_count": 174,
     "metadata": {},
     "output_type": "execute_result"
    }
   ],
   "source": [
    "a2/a1"
   ]
  },
  {
   "cell_type": "code",
   "execution_count": 175,
   "id": "ce6b6dd9-3461-463a-84c0-c6956c1eb408",
   "metadata": {},
   "outputs": [
    {
     "data": {
      "text/plain": [
       "array([[[1.        , 0.5       , 0.33333333],\n",
       "        [0.5       , 0.4       , 0.33333333],\n",
       "        [0.42857143, 0.375     , 0.33333333]],\n",
       "\n",
       "       [[0.3       , 0.27272727, 0.25      ],\n",
       "        [0.53846154, 0.5       , 0.46666667],\n",
       "        [0.25      , 0.23529412, 0.22222222]]])"
      ]
     },
     "execution_count": 175,
     "metadata": {},
     "output_type": "execute_result"
    }
   ],
   "source": [
    "a2_reshaped/a3"
   ]
  },
  {
   "cell_type": "code",
   "execution_count": 176,
   "id": "6ee8f35a-9fbd-4566-8b0d-ab1576cd4a63",
   "metadata": {},
   "outputs": [
    {
     "data": {
      "text/plain": [
       "array([[[1, 0, 0],\n",
       "        [0, 0, 0],\n",
       "        [0, 0, 0]],\n",
       "\n",
       "       [[0, 0, 0],\n",
       "        [0, 0, 0],\n",
       "        [0, 0, 0]]])"
      ]
     },
     "execution_count": 176,
     "metadata": {},
     "output_type": "execute_result"
    }
   ],
   "source": [
    "a2_reshaped//a3"
   ]
  },
  {
   "cell_type": "code",
   "execution_count": 177,
   "id": "8e997c7e-474b-4e44-a7b9-480ea7ad5b64",
   "metadata": {},
   "outputs": [
    {
     "data": {
      "text/plain": [
       "array([[ 1,  4,  9],\n",
       "       [ 9, 49, 16]])"
      ]
     },
     "execution_count": 177,
     "metadata": {},
     "output_type": "execute_result"
    }
   ],
   "source": [
    "a2**2"
   ]
  },
  {
   "cell_type": "code",
   "execution_count": 178,
   "id": "d5d0c8da-bee2-4205-93e0-7f0e73e18674",
   "metadata": {},
   "outputs": [
    {
     "data": {
      "text/plain": [
       "array([[1, 2, 3],\n",
       "       [3, 7, 4]])"
      ]
     },
     "execution_count": 178,
     "metadata": {},
     "output_type": "execute_result"
    }
   ],
   "source": [
    "a2"
   ]
  },
  {
   "cell_type": "code",
   "execution_count": 179,
   "id": "8aee23c9-9a76-420e-932a-54fe83d0df6f",
   "metadata": {},
   "outputs": [
    {
     "data": {
      "text/plain": [
       "array([[ 1,  4,  9],\n",
       "       [ 9, 49, 16]])"
      ]
     },
     "execution_count": 179,
     "metadata": {},
     "output_type": "execute_result"
    }
   ],
   "source": [
    "np.square(a2)"
   ]
  },
  {
   "cell_type": "code",
   "execution_count": 180,
   "id": "71e1becc-8195-4cd1-9f7a-ba1a3ff1682a",
   "metadata": {},
   "outputs": [
    {
     "data": {
      "text/plain": [
       "array([2., 3., 4.])"
      ]
     },
     "execution_count": 180,
     "metadata": {},
     "output_type": "execute_result"
    }
   ],
   "source": [
    "np.add(a1, ones)"
   ]
  },
  {
   "cell_type": "code",
   "execution_count": 181,
   "id": "fe43ed06-0cb4-4f4c-bc3d-49cd23f88b6a",
   "metadata": {},
   "outputs": [
    {
     "data": {
      "text/plain": [
       "array([1, 0, 1], dtype=int32)"
      ]
     },
     "execution_count": 181,
     "metadata": {},
     "output_type": "execute_result"
    }
   ],
   "source": [
    "a1 % 2\n"
   ]
  },
  {
   "cell_type": "code",
   "execution_count": 182,
   "id": "91547fe2-7738-40bd-9ed9-3a98f8afe8b8",
   "metadata": {},
   "outputs": [
    {
     "data": {
      "text/plain": [
       "array([0.5, 1. , 1.5])"
      ]
     },
     "execution_count": 182,
     "metadata": {},
     "output_type": "execute_result"
    }
   ],
   "source": [
    "a1/2"
   ]
  },
  {
   "cell_type": "code",
   "execution_count": 183,
   "id": "8dd97d23-0921-4c2a-9d29-e76bbef6b7a2",
   "metadata": {},
   "outputs": [
    {
     "data": {
      "text/plain": [
       "array([[1, 0, 1],\n",
       "       [1, 1, 0]], dtype=int32)"
      ]
     },
     "execution_count": 183,
     "metadata": {},
     "output_type": "execute_result"
    }
   ],
   "source": [
    "a2%2"
   ]
  },
  {
   "cell_type": "code",
   "execution_count": 184,
   "id": "b1b7f05b-6975-4fef-9bfa-9859b5b84c90",
   "metadata": {},
   "outputs": [
    {
     "data": {
      "text/plain": [
       "array([ 2.71828183,  7.3890561 , 20.08553692])"
      ]
     },
     "execution_count": 184,
     "metadata": {},
     "output_type": "execute_result"
    }
   ],
   "source": [
    "np.exp(a1)"
   ]
  },
  {
   "cell_type": "code",
   "execution_count": 185,
   "id": "868667e0-9bb7-4233-8456-789f8f1d6de8",
   "metadata": {},
   "outputs": [
    {
     "data": {
      "text/plain": [
       "array([0.        , 0.69314718, 1.09861229])"
      ]
     },
     "execution_count": 185,
     "metadata": {},
     "output_type": "execute_result"
    }
   ],
   "source": [
    "np.log(a1)"
   ]
  },
  {
   "cell_type": "markdown",
   "id": "184ea34c-0713-4a1c-be19-fefd381c9508",
   "metadata": {},
   "source": [
    "## Aggregation"
   ]
  },
  {
   "cell_type": "markdown",
   "id": "2ad316bf-01cc-4fb4-8555-df55abd713e8",
   "metadata": {},
   "source": [
    "#Aggression = peroforming the same operation on a number\n"
   ]
  },
  {
   "cell_type": "code",
   "execution_count": 186,
   "id": "8f1075a0-123b-4f50-965b-f8d63c67f0ef",
   "metadata": {},
   "outputs": [
    {
     "data": {
      "text/plain": [
       "[1, 2, 3]"
      ]
     },
     "execution_count": 186,
     "metadata": {},
     "output_type": "execute_result"
    }
   ],
   "source": [
    "listy_list = [1, 2, 3]\n",
    "listy_list"
   ]
  },
  {
   "cell_type": "code",
   "execution_count": 187,
   "id": "c269b9e4-fd03-4bf1-9d70-987c8f9165fb",
   "metadata": {},
   "outputs": [
    {
     "data": {
      "text/plain": [
       "list"
      ]
     },
     "execution_count": 187,
     "metadata": {},
     "output_type": "execute_result"
    }
   ],
   "source": [
    "type(listy_list)"
   ]
  },
  {
   "cell_type": "code",
   "execution_count": 188,
   "id": "77a2db81-d1fb-4074-bc87-02e8443c9ccc",
   "metadata": {},
   "outputs": [
    {
     "data": {
      "text/plain": [
       "6"
      ]
     },
     "execution_count": 188,
     "metadata": {},
     "output_type": "execute_result"
    }
   ],
   "source": [
    "sum(listy_list) #python"
   ]
  },
  {
   "cell_type": "code",
   "execution_count": 189,
   "id": "ee5a0cb1-2246-4844-9636-15a357aa828d",
   "metadata": {},
   "outputs": [
    {
     "data": {
      "text/plain": [
       "array([1, 2, 3])"
      ]
     },
     "execution_count": 189,
     "metadata": {},
     "output_type": "execute_result"
    }
   ],
   "source": [
    "a1"
   ]
  },
  {
   "cell_type": "code",
   "execution_count": 190,
   "id": "48194a8c-74fe-453f-b532-642b4e8ec063",
   "metadata": {},
   "outputs": [
    {
     "data": {
      "text/plain": [
       "6"
      ]
     },
     "execution_count": 190,
     "metadata": {},
     "output_type": "execute_result"
    }
   ],
   "source": [
    "sum(a1)\n"
   ]
  },
  {
   "cell_type": "code",
   "execution_count": 191,
   "id": "b33eb7e5-eca6-410c-880b-80d48f8132e1",
   "metadata": {},
   "outputs": [
    {
     "data": {
      "text/plain": [
       "6"
      ]
     },
     "execution_count": 191,
     "metadata": {},
     "output_type": "execute_result"
    }
   ],
   "source": [
    "np.sum(a1)\n"
   ]
  },
  {
   "cell_type": "markdown",
   "id": "3b0918de-6627-4e92-94c6-ebd1835dde05",
   "metadata": {},
   "source": [
    "Use python method(sum()) on python datatypes and use numpy method on numpy arrays (np.sum())."
   ]
  },
  {
   "cell_type": "code",
   "execution_count": 192,
   "id": "572617c8-22cf-4133-8722-ff8279562eb7",
   "metadata": {},
   "outputs": [
    {
     "data": {
      "text/plain": [
       "array([0.122318  , 0.60531038, 0.98359658, ..., 0.14147657, 0.1200846 ,\n",
       "       0.13928087])"
      ]
     },
     "execution_count": 192,
     "metadata": {},
     "output_type": "execute_result"
    }
   ],
   "source": [
    "#create a massive Numpy arrays\n",
    "massive_array = np.random.random(100000)\n",
    "massive_array"
   ]
  },
  {
   "cell_type": "code",
   "execution_count": 193,
   "id": "e7a4644d-4886-40b3-8e1b-a96715f49a4f",
   "metadata": {},
   "outputs": [
    {
     "data": {
      "text/plain": [
       "array([0.122318  , 0.60531038, 0.98359658, 0.90447715, 0.26103618,\n",
       "       0.59673101, 0.3340151 , 0.44550347, 0.6449255 , 0.34167404])"
      ]
     },
     "execution_count": 193,
     "metadata": {},
     "output_type": "execute_result"
    }
   ],
   "source": [
    "massive_array[:10]"
   ]
  },
  {
   "cell_type": "code",
   "execution_count": 194,
   "id": "67f3c316-c8c0-4812-8369-39712a277ffe",
   "metadata": {},
   "outputs": [
    {
     "name": "stdout",
     "output_type": "stream",
     "text": [
      "13.6 ms ± 2.06 ms per loop (mean ± std. dev. of 7 runs, 100 loops each)\n",
      "62.4 µs ± 1.31 µs per loop (mean ± std. dev. of 7 runs, 10,000 loops each)\n"
     ]
    }
   ],
   "source": [
    "%timeit sum(massive_array) # python sum\n",
    "%timeit np.sum(massive_array) #Numpy sum"
   ]
  },
  {
   "cell_type": "markdown",
   "id": "de6f71d0-3396-4295-b04c-bcc5f78e68ac",
   "metadata": {},
   "source": [
    " ms is milly seconds\n",
    " us is micro seconds"
   ]
  },
  {
   "cell_type": "code",
   "execution_count": 195,
   "id": "899eb3f8-fe2b-4062-9cc9-dbdbf7c01441",
   "metadata": {},
   "outputs": [
    {
     "data": {
      "text/plain": [
       "array([[1, 2, 3],\n",
       "       [3, 7, 4]])"
      ]
     },
     "execution_count": 195,
     "metadata": {},
     "output_type": "execute_result"
    }
   ],
   "source": [
    "a2"
   ]
  },
  {
   "cell_type": "code",
   "execution_count": 196,
   "id": "e33673a2-c3ba-4986-906f-546d55c2132d",
   "metadata": {},
   "outputs": [
    {
     "data": {
      "text/plain": [
       "3.3333333333333335"
      ]
     },
     "execution_count": 196,
     "metadata": {},
     "output_type": "execute_result"
    }
   ],
   "source": [
    "np.mean(a2)"
   ]
  },
  {
   "cell_type": "code",
   "execution_count": 197,
   "id": "cfaec0cb-a70c-4d38-8b82-0aa670576552",
   "metadata": {},
   "outputs": [
    {
     "data": {
      "text/plain": [
       "7"
      ]
     },
     "execution_count": 197,
     "metadata": {},
     "output_type": "execute_result"
    }
   ],
   "source": [
    "np.max(a2)"
   ]
  },
  {
   "cell_type": "code",
   "execution_count": 198,
   "id": "224e9d69-21f2-46f5-9b7c-0fe76541a9a7",
   "metadata": {},
   "outputs": [
    {
     "data": {
      "text/plain": [
       "1.8856180831641267"
      ]
     },
     "execution_count": 198,
     "metadata": {},
     "output_type": "execute_result"
    }
   ],
   "source": [
    "# Standard deviation = a measure of how spread out a group of number is from the mean\n",
    "np.std(a2)"
   ]
  },
  {
   "cell_type": "code",
   "execution_count": 199,
   "id": "05ccab04-e664-421d-8cfb-76e082b70294",
   "metadata": {},
   "outputs": [
    {
     "data": {
      "text/plain": [
       "1.8856180831641267"
      ]
     },
     "execution_count": 199,
     "metadata": {},
     "output_type": "execute_result"
    }
   ],
   "source": [
    "# Standard deviation \n",
    "np.sqrt(np.var(a2))"
   ]
  },
  {
   "cell_type": "code",
   "execution_count": 200,
   "id": "b4e95c6f-fffc-4bf7-9757-c2586e74920e",
   "metadata": {},
   "outputs": [
    {
     "data": {
      "text/plain": [
       "3.5555555555555554"
      ]
     },
     "execution_count": 200,
     "metadata": {},
     "output_type": "execute_result"
    }
   ],
   "source": [
    "# Varience = measure of the average degree to which each number is diffferent \n",
    "# Higher Varience = wider range of numbers\n",
    "# lower varience = lower range of numbers\n",
    "np.var(a2)"
   ]
  },
  {
   "cell_type": "code",
   "execution_count": 201,
   "id": "e7f08b81-e82e-4978-802f-39ea563d22cf",
   "metadata": {},
   "outputs": [],
   "source": [
    "# Demo of std and var \n",
    "high_var_array = np.array([1, 100, 200, 300, 4000, 5000])\n",
    "low_var_array= np.array([2, 4, 6, 8, 10])\n"
   ]
  },
  {
   "cell_type": "code",
   "execution_count": 202,
   "id": "5cbe3e27-c7f9-4467-a6a1-cd033c5e728a",
   "metadata": {},
   "outputs": [
    {
     "data": {
      "text/plain": [
       "(4296133.472222221, 8.0)"
      ]
     },
     "execution_count": 202,
     "metadata": {},
     "output_type": "execute_result"
    }
   ],
   "source": [
    "np.var(high_var_array), np.var(low_var_array)"
   ]
  },
  {
   "cell_type": "code",
   "execution_count": 203,
   "id": "d0ed9ee8-6be2-4a14-8b66-83de1d05eb56",
   "metadata": {},
   "outputs": [
    {
     "data": {
      "text/plain": [
       "(2072.711623024829, 2.8284271247461903)"
      ]
     },
     "execution_count": 203,
     "metadata": {},
     "output_type": "execute_result"
    }
   ],
   "source": [
    "np.std (high_var_array),  np.std(low_var_array)"
   ]
  },
  {
   "cell_type": "code",
   "execution_count": 204,
   "id": "ad0db338-d0af-41b3-b6bc-a26069c37195",
   "metadata": {},
   "outputs": [
    {
     "data": {
      "text/plain": [
       "(1600.1666666666667, 1600.1666666666667)"
      ]
     },
     "execution_count": 204,
     "metadata": {},
     "output_type": "execute_result"
    }
   ],
   "source": [
    "np.mean(high_var_array), np.mean(high_var_array)"
   ]
  },
  {
   "cell_type": "code",
   "execution_count": 205,
   "id": "34bf78e6-d7e3-4b1f-b615-f126fdf2b500",
   "metadata": {},
   "outputs": [
    {
     "data": {
      "image/png": "[encoded data removed]",
      "text/plain": [
       "<Figure size 640x480 with 1 Axes>"
      ]
     },
     "metadata": {},
     "output_type": "display_data"
    }
   ],
   "source": [
    "import matplotlib.pyplot as plt\n",
    "plt.hist(high_var_array)\n",
    "plt.show()"
   ]
  },
  {
   "cell_type": "code",
   "execution_count": 206,
   "id": "2cdeda15-caf9-474e-98cd-8d988e377330",
   "metadata": {},
   "outputs": [
    {
     "data": {
      "image/png": "[encoded data removed]",
      "text/plain": [
       "<Figure size 640x480 with 1 Axes>"
      ]
     },
     "metadata": {},
     "output_type": "display_data"
    }
   ],
   "source": [
    "plt.hist(low_var_array)\n",
    "plt.show()"
   ]
  },
  {
   "cell_type": "code",
   "execution_count": 207,
   "id": "9842944f-9f10-4e00-a915-5fe63c3e2b50",
   "metadata": {},
   "outputs": [],
   "source": [
    "mat1= np.random.randint(10, size=(5,3))\n",
    "mat2= np.random.randint(10, size=(5, 3))"
   ]
  },
  {
   "cell_type": "code",
   "execution_count": 208,
   "id": "27cf9895-69e6-4175-8649-b3aae25eb824",
   "metadata": {},
   "outputs": [
    {
     "data": {
      "text/plain": [
       "array([[8, 3, 9],\n",
       "       [0, 5, 5],\n",
       "       [1, 4, 3],\n",
       "       [7, 2, 1],\n",
       "       [3, 2, 7]])"
      ]
     },
     "execution_count": 208,
     "metadata": {},
     "output_type": "execute_result"
    }
   ],
   "source": [
    "mat1"
   ]
  },
  {
   "cell_type": "code",
   "execution_count": 209,
   "id": "565921bd-59f8-401e-8a17-8e7da043dbd5",
   "metadata": {},
   "outputs": [
    {
     "data": {
      "text/plain": [
       "array([[1, 1, 8],\n",
       "       [0, 9, 9],\n",
       "       [2, 1, 4],\n",
       "       [0, 8, 0],\n",
       "       [0, 4, 5]])"
      ]
     },
     "execution_count": 209,
     "metadata": {},
     "output_type": "execute_result"
    }
   ],
   "source": [
    "mat2"
   ]
  },
  {
   "cell_type": "code",
   "execution_count": 210,
   "id": "a6d42f7b-47f6-496d-9c9b-426ce201c85b",
   "metadata": {},
   "outputs": [
    {
     "data": {
      "text/plain": [
       "array([[ 8,  3, 72],\n",
       "       [ 0, 45, 45],\n",
       "       [ 2,  4, 12],\n",
       "       [ 0, 16,  0],\n",
       "       [ 0,  8, 35]])"
      ]
     },
     "execution_count": 210,
     "metadata": {},
     "output_type": "execute_result"
    }
   ],
   "source": [
    "mat1 * mat2"
   ]
  },
  {
   "cell_type": "code",
   "execution_count": 211,
   "id": "c1854b1b-4ac2-4f02-8649-065cacb9219d",
   "metadata": {},
   "outputs": [],
   "source": [
    "# Dot product"
   ]
  },
  {
   "cell_type": "code",
   "execution_count": 212,
   "id": "42ad2ad4-88ee-4213-adc5-adbbd60cbc03",
   "metadata": {},
   "outputs": [
    {
     "ename": "ValueError",
     "evalue": "shapes (5,3) and (5,3) not aligned: 3 (dim 1) != 5 (dim 0)",
     "output_type": "error",
     "traceback": [
      "\u001b[1;31m---------------------------------------------------------------------------\u001b[0m",
      "\u001b[1;31mValueError\u001b[0m                                Traceback (most recent call last)",
      "Cell \u001b[1;32mIn[212], line 1\u001b[0m\n\u001b[1;32m----> 1\u001b[0m np\u001b[38;5;241m.\u001b[39mdot(mat1,mat2)\n",
      "\u001b[1;31mValueError\u001b[0m: shapes (5,3) and (5,3) not aligned: 3 (dim 1) != 5 (dim 0)"
     ]
    }
   ],
   "source": [
    "np.dot(mat1,mat2)\n"
   ]
  },
  {
   "cell_type": "code",
   "execution_count": null,
   "id": "1d8c5eec-6dbe-4794-bbff-d95874fd50ae",
   "metadata": {},
   "outputs": [],
   "source": [
    "mat3= np.dot(mat1,mat2.T)"
   ]
  },
  {
   "cell_type": "code",
   "execution_count": null,
   "id": "bf77a476-98f4-40a5-b0fc-3fea1f52be3a",
   "metadata": {},
   "outputs": [],
   "source": [
    "mat3"
   ]
  },
  {
   "cell_type": "code",
   "execution_count": 213,
   "id": "8fc8497f-a4ef-4670-b685-3ce06089ad71",
   "metadata": {},
   "outputs": [
    {
     "data": {
      "text/plain": [
       "array([[12, 15,  0],\n",
       "       [ 3,  3,  7],\n",
       "       [ 9, 19, 18],\n",
       "       [ 4,  6, 12],\n",
       "       [ 1,  6,  7]])"
      ]
     },
     "execution_count": 213,
     "metadata": {},
     "output_type": "execute_result"
    }
   ],
   "source": [
    "## Dot product example (nut butter sales)\n",
    "\n",
    "np.random.seed(0)\n",
    "sales_amounts = np.random.randint(20, size=(5,3))\n",
    "sales_amounts"
   ]
  },
  {
   "cell_type": "code",
   "execution_count": 214,
   "id": "dfb9c508-fe7b-4ba5-8c12-de94b0d4bf26",
   "metadata": {},
   "outputs": [
    {
     "data": {
      "text/html": [
       "<div>\n",
       "<style scoped>\n",
       "    .dataframe tbody tr th:only-of-type {\n",
       "        vertical-align: middle;\n",
       "    }\n",
       "\n",
       "    .dataframe tbody tr th {\n",
       "        vertical-align: top;\n",
       "    }\n",
       "\n",
       "    .dataframe thead th {\n",
       "        text-align: right;\n",
       "    }\n",
       "</style>\n",
       "<table border=\"1\" class=\"dataframe\">\n",
       "  <thead>\n",
       "    <tr style=\"text-align: right;\">\n",
       "      <th></th>\n",
       "      <th>almod</th>\n",
       "      <th>butts</th>\n",
       "      <th>cashew</th>\n",
       "    </tr>\n",
       "  </thead>\n",
       "  <tbody>\n",
       "    <tr>\n",
       "      <th>mon</th>\n",
       "      <td>12</td>\n",
       "      <td>15</td>\n",
       "      <td>0</td>\n",
       "    </tr>\n",
       "    <tr>\n",
       "      <th>tues</th>\n",
       "      <td>3</td>\n",
       "      <td>3</td>\n",
       "      <td>7</td>\n",
       "    </tr>\n",
       "    <tr>\n",
       "      <th>wed</th>\n",
       "      <td>9</td>\n",
       "      <td>19</td>\n",
       "      <td>18</td>\n",
       "    </tr>\n",
       "    <tr>\n",
       "      <th>thur</th>\n",
       "      <td>4</td>\n",
       "      <td>6</td>\n",
       "      <td>12</td>\n",
       "    </tr>\n",
       "    <tr>\n",
       "      <th>fri</th>\n",
       "      <td>1</td>\n",
       "      <td>6</td>\n",
       "      <td>7</td>\n",
       "    </tr>\n",
       "  </tbody>\n",
       "</table>\n",
       "</div>"
      ],
      "text/plain": [
       "       almod  butts  cashew\n",
       "mon       12     15       0\n",
       "tues       3      3       7\n",
       "wed        9     19      18\n",
       "thur       4      6      12\n",
       "fri        1      6       7"
      ]
     },
     "execution_count": 214,
     "metadata": {},
     "output_type": "execute_result"
    }
   ],
   "source": [
    "# Create a Weekly_sales dataframe\n",
    "weekly_sales = pd.DataFrame(sales_amounts, index = [\"mon\", \"tues\", \"wed\",\"thur\",\"fri\"], columns=[ \" almod\", \"butts\", \"cashew\"])\n",
    "weekly_sales"
   ]
  },
  {
   "cell_type": "code",
   "execution_count": 215,
   "id": "415b2059-be93-4c7d-a56d-13cccf66597d",
   "metadata": {},
   "outputs": [
    {
     "data": {
      "text/plain": [
       "array([10,  8, 12])"
      ]
     },
     "execution_count": 215,
     "metadata": {},
     "output_type": "execute_result"
    }
   ],
   "source": [
    "# create price array\n",
    "prices = np. array([10, 8, 12])\n",
    "prices"
   ]
  },
  {
   "cell_type": "code",
   "execution_count": 216,
   "id": "0e4a4a96-1ec8-48e6-8aa8-e68353c0cb51",
   "metadata": {},
   "outputs": [
    {
     "ename": "TypeError",
     "evalue": "tuple indices must be integers or slices, not tuple",
     "output_type": "error",
     "traceback": [
      "\u001b[1;31m---------------------------------------------------------------------------\u001b[0m",
      "\u001b[1;31mTypeError\u001b[0m                                 Traceback (most recent call last)",
      "Cell \u001b[1;32mIn[216], line 1\u001b[0m\n\u001b[1;32m----> 1\u001b[0m prices\u001b[38;5;241m.\u001b[39mshape[\u001b[38;5;241m3\u001b[39m,\u001b[38;5;241m1\u001b[39m]\n",
      "\u001b[1;31mTypeError\u001b[0m: tuple indices must be integers or slices, not tuple"
     ]
    }
   ],
   "source": [
    "prices.shape[3,1]\n"
   ]
  },
  {
   "cell_type": "code",
   "execution_count": 217,
   "id": "46be301f-96eb-4e76-a72c-10bd9516e543",
   "metadata": {},
   "outputs": [
    {
     "data": {
      "text/plain": [
       "(3,)"
      ]
     },
     "execution_count": 217,
     "metadata": {},
     "output_type": "execute_result"
    }
   ],
   "source": [
    "prices.shape"
   ]
  },
  {
   "cell_type": "code",
   "execution_count": 218,
   "id": "3fde9abd-912a-4106-88de-7dd50bddda27",
   "metadata": {},
   "outputs": [
    {
     "ename": "ValueError",
     "evalue": "Shape of passed values is (3, 1), indices imply (1, 3)",
     "output_type": "error",
     "traceback": [
      "\u001b[1;31m---------------------------------------------------------------------------\u001b[0m",
      "\u001b[1;31mValueError\u001b[0m                                Traceback (most recent call last)",
      "Cell \u001b[1;32mIn[218], line 1\u001b[0m\n\u001b[1;32m----> 1\u001b[0m prices \u001b[38;5;241m=\u001b[39m pd\u001b[38;5;241m.\u001b[39mDataFrame(prices, index\u001b[38;5;241m=\u001b[39m[\u001b[38;5;124m\"\u001b[39m\u001b[38;5;124mprice\u001b[39m\u001b[38;5;124m\"\u001b[39m], columns\u001b[38;5;241m=\u001b[39m [ \u001b[38;5;124m\"\u001b[39m\u001b[38;5;124m almod\u001b[39m\u001b[38;5;124m\"\u001b[39m, \u001b[38;5;124m\"\u001b[39m\u001b[38;5;124mbutts\u001b[39m\u001b[38;5;124m\"\u001b[39m, \u001b[38;5;124m\"\u001b[39m\u001b[38;5;124mcashew\u001b[39m\u001b[38;5;124m\"\u001b[39m])\n",
      "File \u001b[1;32m~\\desktop\\sample_project_1\\env\\Lib\\site-packages\\pandas\\core\\frame.py:816\u001b[0m, in \u001b[0;36mDataFrame.__init__\u001b[1;34m(self, data, index, columns, dtype, copy)\u001b[0m\n\u001b[0;32m    805\u001b[0m         mgr \u001b[38;5;241m=\u001b[39m dict_to_mgr(\n\u001b[0;32m    806\u001b[0m             \u001b[38;5;66;03m# error: Item \"ndarray\" of \"Union[ndarray, Series, Index]\" has no\u001b[39;00m\n\u001b[0;32m    807\u001b[0m             \u001b[38;5;66;03m# attribute \"name\"\u001b[39;00m\n\u001b[1;32m   (...)\u001b[0m\n\u001b[0;32m    813\u001b[0m             copy\u001b[38;5;241m=\u001b[39m_copy,\n\u001b[0;32m    814\u001b[0m         )\n\u001b[0;32m    815\u001b[0m     \u001b[38;5;28;01melse\u001b[39;00m:\n\u001b[1;32m--> 816\u001b[0m         mgr \u001b[38;5;241m=\u001b[39m ndarray_to_mgr(\n\u001b[0;32m    817\u001b[0m             data,\n\u001b[0;32m    818\u001b[0m             index,\n\u001b[0;32m    819\u001b[0m             columns,\n\u001b[0;32m    820\u001b[0m             dtype\u001b[38;5;241m=\u001b[39mdtype,\n\u001b[0;32m    821\u001b[0m             copy\u001b[38;5;241m=\u001b[39mcopy,\n\u001b[0;32m    822\u001b[0m             typ\u001b[38;5;241m=\u001b[39mmanager,\n\u001b[0;32m    823\u001b[0m         )\n\u001b[0;32m    825\u001b[0m \u001b[38;5;66;03m# For data is list-like, or Iterable (will consume into list)\u001b[39;00m\n\u001b[0;32m    826\u001b[0m \u001b[38;5;28;01melif\u001b[39;00m is_list_like(data):\n",
      "File \u001b[1;32m~\\desktop\\sample_project_1\\env\\Lib\\site-packages\\pandas\\core\\internals\\construction.py:336\u001b[0m, in \u001b[0;36mndarray_to_mgr\u001b[1;34m(values, index, columns, dtype, copy, typ)\u001b[0m\n\u001b[0;32m    331\u001b[0m \u001b[38;5;66;03m# _prep_ndarraylike ensures that values.ndim == 2 at this point\u001b[39;00m\n\u001b[0;32m    332\u001b[0m index, columns \u001b[38;5;241m=\u001b[39m _get_axes(\n\u001b[0;32m    333\u001b[0m     values\u001b[38;5;241m.\u001b[39mshape[\u001b[38;5;241m0\u001b[39m], values\u001b[38;5;241m.\u001b[39mshape[\u001b[38;5;241m1\u001b[39m], index\u001b[38;5;241m=\u001b[39mindex, columns\u001b[38;5;241m=\u001b[39mcolumns\n\u001b[0;32m    334\u001b[0m )\n\u001b[1;32m--> 336\u001b[0m _check_values_indices_shape_match(values, index, columns)\n\u001b[0;32m    338\u001b[0m \u001b[38;5;28;01mif\u001b[39;00m typ \u001b[38;5;241m==\u001b[39m \u001b[38;5;124m\"\u001b[39m\u001b[38;5;124marray\u001b[39m\u001b[38;5;124m\"\u001b[39m:\n\u001b[0;32m    339\u001b[0m     \u001b[38;5;28;01mif\u001b[39;00m \u001b[38;5;28missubclass\u001b[39m(values\u001b[38;5;241m.\u001b[39mdtype\u001b[38;5;241m.\u001b[39mtype, \u001b[38;5;28mstr\u001b[39m):\n",
      "File \u001b[1;32m~\\desktop\\sample_project_1\\env\\Lib\\site-packages\\pandas\\core\\internals\\construction.py:420\u001b[0m, in \u001b[0;36m_check_values_indices_shape_match\u001b[1;34m(values, index, columns)\u001b[0m\n\u001b[0;32m    418\u001b[0m passed \u001b[38;5;241m=\u001b[39m values\u001b[38;5;241m.\u001b[39mshape\n\u001b[0;32m    419\u001b[0m implied \u001b[38;5;241m=\u001b[39m (\u001b[38;5;28mlen\u001b[39m(index), \u001b[38;5;28mlen\u001b[39m(columns))\n\u001b[1;32m--> 420\u001b[0m \u001b[38;5;28;01mraise\u001b[39;00m \u001b[38;5;167;01mValueError\u001b[39;00m(\u001b[38;5;124mf\u001b[39m\u001b[38;5;124m\"\u001b[39m\u001b[38;5;124mShape of passed values is \u001b[39m\u001b[38;5;132;01m{\u001b[39;00mpassed\u001b[38;5;132;01m}\u001b[39;00m\u001b[38;5;124m, indices imply \u001b[39m\u001b[38;5;132;01m{\u001b[39;00mimplied\u001b[38;5;132;01m}\u001b[39;00m\u001b[38;5;124m\"\u001b[39m)\n",
      "\u001b[1;31mValueError\u001b[0m: Shape of passed values is (3, 1), indices imply (1, 3)"
     ]
    }
   ],
   "source": [
    "prices = pd.DataFrame(prices, index=[\"price\"], columns= [ \" almod\", \"butts\", \"cashew\"])\n"
   ]
  },
  {
   "cell_type": "code",
   "execution_count": 219,
   "id": "734e2bcf-8013-4272-8a0b-616864ec47e7",
   "metadata": {},
   "outputs": [],
   "source": [
    "price_n = prices.reshape(1,3)"
   ]
  },
  {
   "cell_type": "code",
   "execution_count": 220,
   "id": "143c0aa0-efad-4fae-82e0-2979ebb130c1",
   "metadata": {},
   "outputs": [
    {
     "data": {
      "text/plain": [
       "array([[10,  8, 12]])"
      ]
     },
     "execution_count": 220,
     "metadata": {},
     "output_type": "execute_result"
    }
   ],
   "source": [
    "price_n"
   ]
  },
  {
   "cell_type": "code",
   "execution_count": 221,
   "id": "165fc4d4-007b-4352-ac7b-28577b586049",
   "metadata": {},
   "outputs": [],
   "source": [
    "prices = pd.DataFrame(prices.reshape(1,3), index=[\"price\"], columns= [ \" almod\", \"butts\", \"cashew\"])"
   ]
  },
  {
   "cell_type": "code",
   "execution_count": 222,
   "id": "063c5e52-ec61-4a8c-a8c0-278ba4f1f368",
   "metadata": {},
   "outputs": [
    {
     "data": {
      "text/html": [
       "<div>\n",
       "<style scoped>\n",
       "    .dataframe tbody tr th:only-of-type {\n",
       "        vertical-align: middle;\n",
       "    }\n",
       "\n",
       "    .dataframe tbody tr th {\n",
       "        vertical-align: top;\n",
       "    }\n",
       "\n",
       "    .dataframe thead th {\n",
       "        text-align: right;\n",
       "    }\n",
       "</style>\n",
       "<table border=\"1\" class=\"dataframe\">\n",
       "  <thead>\n",
       "    <tr style=\"text-align: right;\">\n",
       "      <th></th>\n",
       "      <th>almod</th>\n",
       "      <th>butts</th>\n",
       "      <th>cashew</th>\n",
       "    </tr>\n",
       "  </thead>\n",
       "  <tbody>\n",
       "    <tr>\n",
       "      <th>price</th>\n",
       "      <td>10</td>\n",
       "      <td>8</td>\n",
       "      <td>12</td>\n",
       "    </tr>\n",
       "  </tbody>\n",
       "</table>\n",
       "</div>"
      ],
      "text/plain": [
       "        almod  butts  cashew\n",
       "price      10      8      12"
      ]
     },
     "execution_count": 222,
     "metadata": {},
     "output_type": "execute_result"
    }
   ],
   "source": [
    "prices"
   ]
  },
  {
   "cell_type": "code",
   "execution_count": 223,
   "id": "56aa46de-77f0-4f62-bd15-4d7a1dc24867",
   "metadata": {},
   "outputs": [
    {
     "data": {
      "text/html": [
       "<div>\n",
       "<style scoped>\n",
       "    .dataframe tbody tr th:only-of-type {\n",
       "        vertical-align: middle;\n",
       "    }\n",
       "\n",
       "    .dataframe tbody tr th {\n",
       "        vertical-align: top;\n",
       "    }\n",
       "\n",
       "    .dataframe thead th {\n",
       "        text-align: right;\n",
       "    }\n",
       "</style>\n",
       "<table border=\"1\" class=\"dataframe\">\n",
       "  <thead>\n",
       "    <tr style=\"text-align: right;\">\n",
       "      <th></th>\n",
       "      <th>almod</th>\n",
       "      <th>butts</th>\n",
       "      <th>cashew</th>\n",
       "    </tr>\n",
       "  </thead>\n",
       "  <tbody>\n",
       "    <tr>\n",
       "      <th>mon</th>\n",
       "      <td>12</td>\n",
       "      <td>15</td>\n",
       "      <td>0</td>\n",
       "    </tr>\n",
       "    <tr>\n",
       "      <th>tues</th>\n",
       "      <td>3</td>\n",
       "      <td>3</td>\n",
       "      <td>7</td>\n",
       "    </tr>\n",
       "    <tr>\n",
       "      <th>wed</th>\n",
       "      <td>9</td>\n",
       "      <td>19</td>\n",
       "      <td>18</td>\n",
       "    </tr>\n",
       "    <tr>\n",
       "      <th>thur</th>\n",
       "      <td>4</td>\n",
       "      <td>6</td>\n",
       "      <td>12</td>\n",
       "    </tr>\n",
       "    <tr>\n",
       "      <th>fri</th>\n",
       "      <td>1</td>\n",
       "      <td>6</td>\n",
       "      <td>7</td>\n",
       "    </tr>\n",
       "  </tbody>\n",
       "</table>\n",
       "</div>"
      ],
      "text/plain": [
       "       almod  butts  cashew\n",
       "mon       12     15       0\n",
       "tues       3      3       7\n",
       "wed        9     19      18\n",
       "thur       4      6      12\n",
       "fri        1      6       7"
      ]
     },
     "execution_count": 223,
     "metadata": {},
     "output_type": "execute_result"
    }
   ],
   "source": [
    "weekly_sales"
   ]
  },
  {
   "cell_type": "code",
   "execution_count": 224,
   "id": "1ee7dcb2-908f-4c9e-bded-aa34957aa4af",
   "metadata": {},
   "outputs": [],
   "source": [
    "total_sales = prices.dot(sales_amounts.T)"
   ]
  },
  {
   "cell_type": "code",
   "execution_count": 225,
   "id": "ebabe0b5-cb68-4c5e-8ed0-f160d7ccddad",
   "metadata": {},
   "outputs": [
    {
     "data": {
      "text/html": [
       "<div>\n",
       "<style scoped>\n",
       "    .dataframe tbody tr th:only-of-type {\n",
       "        vertical-align: middle;\n",
       "    }\n",
       "\n",
       "    .dataframe tbody tr th {\n",
       "        vertical-align: top;\n",
       "    }\n",
       "\n",
       "    .dataframe thead th {\n",
       "        text-align: right;\n",
       "    }\n",
       "</style>\n",
       "<table border=\"1\" class=\"dataframe\">\n",
       "  <thead>\n",
       "    <tr style=\"text-align: right;\">\n",
       "      <th></th>\n",
       "      <th>0</th>\n",
       "      <th>1</th>\n",
       "      <th>2</th>\n",
       "      <th>3</th>\n",
       "      <th>4</th>\n",
       "    </tr>\n",
       "  </thead>\n",
       "  <tbody>\n",
       "    <tr>\n",
       "      <th>price</th>\n",
       "      <td>240</td>\n",
       "      <td>138</td>\n",
       "      <td>458</td>\n",
       "      <td>232</td>\n",
       "      <td>142</td>\n",
       "    </tr>\n",
       "  </tbody>\n",
       "</table>\n",
       "</div>"
      ],
      "text/plain": [
       "         0    1    2    3    4\n",
       "price  240  138  458  232  142"
      ]
     },
     "execution_count": 225,
     "metadata": {},
     "output_type": "execute_result"
    }
   ],
   "source": [
    "total_sales"
   ]
  },
  {
   "cell_type": "code",
   "execution_count": 226,
   "id": "babc3b6c-77f2-4540-b3b5-7cd971e022ee",
   "metadata": {},
   "outputs": [
    {
     "data": {
      "text/plain": [
       "((5, 3), (1, 3))"
      ]
     },
     "execution_count": 226,
     "metadata": {},
     "output_type": "execute_result"
    }
   ],
   "source": [
    "# create daily_sales\n",
    "weekly_sales.shape , prices.shape"
   ]
  },
  {
   "cell_type": "code",
   "execution_count": 227,
   "id": "c92d5f18-5633-41d5-852d-2953d6e9f212",
   "metadata": {},
   "outputs": [
    {
     "data": {
      "text/plain": [
       "(       almod  butts  cashew\n",
       " mon       12     15       0\n",
       " tues       3      3       7\n",
       " wed        9     19      18\n",
       " thur       4      6      12\n",
       " fri        1      6       7,\n",
       "         price\n",
       "  almod     10\n",
       " butts       8\n",
       " cashew     12)"
      ]
     },
     "execution_count": 227,
     "metadata": {},
     "output_type": "execute_result"
    }
   ],
   "source": [
    "weekly_sales,prices.T"
   ]
  },
  {
   "cell_type": "code",
   "execution_count": 228,
   "id": "dd895a1c-29c5-4903-a73e-f340c2238666",
   "metadata": {},
   "outputs": [
    {
     "data": {
      "text/html": [
       "<div>\n",
       "<style scoped>\n",
       "    .dataframe tbody tr th:only-of-type {\n",
       "        vertical-align: middle;\n",
       "    }\n",
       "\n",
       "    .dataframe tbody tr th {\n",
       "        vertical-align: top;\n",
       "    }\n",
       "\n",
       "    .dataframe thead th {\n",
       "        text-align: right;\n",
       "    }\n",
       "</style>\n",
       "<table border=\"1\" class=\"dataframe\">\n",
       "  <thead>\n",
       "    <tr style=\"text-align: right;\">\n",
       "      <th></th>\n",
       "      <th>mon</th>\n",
       "      <th>tues</th>\n",
       "      <th>wed</th>\n",
       "      <th>thur</th>\n",
       "      <th>fri</th>\n",
       "    </tr>\n",
       "  </thead>\n",
       "  <tbody>\n",
       "    <tr>\n",
       "      <th>price</th>\n",
       "      <td>240</td>\n",
       "      <td>138</td>\n",
       "      <td>458</td>\n",
       "      <td>232</td>\n",
       "      <td>142</td>\n",
       "    </tr>\n",
       "  </tbody>\n",
       "</table>\n",
       "</div>"
      ],
      "text/plain": [
       "       mon  tues  wed  thur  fri\n",
       "price  240   138  458   232  142"
      ]
     },
     "execution_count": 228,
     "metadata": {},
     "output_type": "execute_result"
    }
   ],
   "source": [
    "daily_sales = prices.dot(weekly_sales.T)\n",
    "daily_sales\n"
   ]
  },
  {
   "cell_type": "code",
   "execution_count": 229,
   "id": "7fd09de7-b23c-46d3-b6fc-922d0d34bbd9",
   "metadata": {},
   "outputs": [],
   "source": [
    "weekly_sales[\"Total\"] =daily_sales.T"
   ]
  },
  {
   "cell_type": "code",
   "execution_count": 230,
   "id": "b8eb8719-1dab-45d5-a24b-a705c4a1bf24",
   "metadata": {},
   "outputs": [
    {
     "data": {
      "text/html": [
       "<div>\n",
       "<style scoped>\n",
       "    .dataframe tbody tr th:only-of-type {\n",
       "        vertical-align: middle;\n",
       "    }\n",
       "\n",
       "    .dataframe tbody tr th {\n",
       "        vertical-align: top;\n",
       "    }\n",
       "\n",
       "    .dataframe thead th {\n",
       "        text-align: right;\n",
       "    }\n",
       "</style>\n",
       "<table border=\"1\" class=\"dataframe\">\n",
       "  <thead>\n",
       "    <tr style=\"text-align: right;\">\n",
       "      <th></th>\n",
       "      <th>almod</th>\n",
       "      <th>butts</th>\n",
       "      <th>cashew</th>\n",
       "      <th>Total</th>\n",
       "    </tr>\n",
       "  </thead>\n",
       "  <tbody>\n",
       "    <tr>\n",
       "      <th>mon</th>\n",
       "      <td>12</td>\n",
       "      <td>15</td>\n",
       "      <td>0</td>\n",
       "      <td>240</td>\n",
       "    </tr>\n",
       "    <tr>\n",
       "      <th>tues</th>\n",
       "      <td>3</td>\n",
       "      <td>3</td>\n",
       "      <td>7</td>\n",
       "      <td>138</td>\n",
       "    </tr>\n",
       "    <tr>\n",
       "      <th>wed</th>\n",
       "      <td>9</td>\n",
       "      <td>19</td>\n",
       "      <td>18</td>\n",
       "      <td>458</td>\n",
       "    </tr>\n",
       "    <tr>\n",
       "      <th>thur</th>\n",
       "      <td>4</td>\n",
       "      <td>6</td>\n",
       "      <td>12</td>\n",
       "      <td>232</td>\n",
       "    </tr>\n",
       "    <tr>\n",
       "      <th>fri</th>\n",
       "      <td>1</td>\n",
       "      <td>6</td>\n",
       "      <td>7</td>\n",
       "      <td>142</td>\n",
       "    </tr>\n",
       "  </tbody>\n",
       "</table>\n",
       "</div>"
      ],
      "text/plain": [
       "       almod  butts  cashew  Total\n",
       "mon       12     15       0    240\n",
       "tues       3      3       7    138\n",
       "wed        9     19      18    458\n",
       "thur       4      6      12    232\n",
       "fri        1      6       7    142"
      ]
     },
     "execution_count": 230,
     "metadata": {},
     "output_type": "execute_result"
    }
   ],
   "source": [
    "weekly_sales"
   ]
  },
  {
   "cell_type": "code",
   "execution_count": 231,
   "id": "d9db83fa-4b4c-498c-8406-cd38334e4690",
   "metadata": {},
   "outputs": [
    {
     "ename": "TypeError",
     "evalue": "'DataFrame' object is not callable",
     "output_type": "error",
     "traceback": [
      "\u001b[1;31m---------------------------------------------------------------------------\u001b[0m",
      "\u001b[1;31mTypeError\u001b[0m                                 Traceback (most recent call last)",
      "Cell \u001b[1;32mIn[231], line 1\u001b[0m\n\u001b[1;32m----> 1\u001b[0m weekly_sales[\u001b[38;5;124m\"\u001b[39m\u001b[38;5;124mPrice\u001b[39m\u001b[38;5;124m\"\u001b[39m] \u001b[38;5;241m=\u001b[39m prices(index\u001b[38;5;241m=\u001b[39m\u001b[38;5;241m0\u001b[39m)\n",
      "\u001b[1;31mTypeError\u001b[0m: 'DataFrame' object is not callable"
     ]
    }
   ],
   "source": [
    "weekly_sales[\"Price\"] = prices(index=0)"
   ]
  },
  {
   "cell_type": "code",
   "execution_count": 232,
   "id": "f00f3477-4f63-4e71-afab-d9f87e3f79f4",
   "metadata": {},
   "outputs": [
    {
     "data": {
      "text/html": [
       "<div>\n",
       "<style scoped>\n",
       "    .dataframe tbody tr th:only-of-type {\n",
       "        vertical-align: middle;\n",
       "    }\n",
       "\n",
       "    .dataframe tbody tr th {\n",
       "        vertical-align: top;\n",
       "    }\n",
       "\n",
       "    .dataframe thead th {\n",
       "        text-align: right;\n",
       "    }\n",
       "</style>\n",
       "<table border=\"1\" class=\"dataframe\">\n",
       "  <thead>\n",
       "    <tr style=\"text-align: right;\">\n",
       "      <th></th>\n",
       "      <th>almod</th>\n",
       "      <th>butts</th>\n",
       "      <th>cashew</th>\n",
       "    </tr>\n",
       "  </thead>\n",
       "  <tbody>\n",
       "    <tr>\n",
       "      <th>price</th>\n",
       "      <td>10</td>\n",
       "      <td>8</td>\n",
       "      <td>12</td>\n",
       "    </tr>\n",
       "  </tbody>\n",
       "</table>\n",
       "</div>"
      ],
      "text/plain": [
       "        almod  butts  cashew\n",
       "price      10      8      12"
      ]
     },
     "execution_count": 232,
     "metadata": {},
     "output_type": "execute_result"
    }
   ],
   "source": [
    "prices"
   ]
  },
  {
   "cell_type": "code",
   "execution_count": 233,
   "id": "16a4c054-5cc6-4b38-bfc9-1d1e0b66f7f5",
   "metadata": {},
   "outputs": [],
   "source": [
    "# Turn image in a Numpy arary\n",
    "from matplotlib.image import imread"
   ]
  },
  {
   "cell_type": "code",
   "execution_count": 234,
   "id": "c3783b7c-7b5b-4d40-941c-01372d0ac43a",
   "metadata": {},
   "outputs": [
    {
     "name": "stdout",
     "output_type": "stream",
     "text": [
      "6-step-ml-framework.png\n"
     ]
    }
   ],
   "source": [
    "panda = imread(\"images/pandas-6-step-ml-framework-tools-highlight.png\")\n",
    "print(\"6-step-ml-framework.png\")"
   ]
  },
  {
   "cell_type": "code",
   "execution_count": 235,
   "id": "4316ab39-9741-42f5-8ff4-fc62a66d6eda",
   "metadata": {},
   "outputs": [
    {
     "ename": "SyntaxError",
     "evalue": "unterminated string literal (detected at line 1) (3138096241.py, line 1)",
     "output_type": "error",
     "traceback": [
      "\u001b[1;36m  Cell \u001b[1;32mIn[235], line 1\u001b[1;36m\u001b[0m\n\u001b[1;33m    < img src=\"images/dog-photo-4.jpeg/>\u001b[0m\n\u001b[1;37m              ^\u001b[0m\n\u001b[1;31mSyntaxError\u001b[0m\u001b[1;31m:\u001b[0m unterminated string literal (detected at line 1)\n"
     ]
    }
   ],
   "source": [
    "< img src=\"images/dog-photo-4.jpeg/>"
   ]
  },
  {
   "cell_type": "code",
   "execution_count": null,
   "id": "d42b798b-00c6-4e2f-bfae-7ee099f7bb76",
   "metadata": {},
   "outputs": [],
   "source": []
  },
  {
   "cell_type": "code",
   "execution_count": null,
   "id": "3de9125c-73b4-4b49-92d3-4d1f3d4601f7",
   "metadata": {},
   "outputs": [],
   "source": []
  },
  {
   "cell_type": "code",
   "execution_count": null,
   "id": "e4affbd2-fdfd-4920-8468-0072aa40bc82",
   "metadata": {},
   "outputs": [],
   "source": []
  },
  {
   "cell_type": "code",
   "execution_count": null,
   "id": "574215b8-8047-45d7-8907-2f12302191e9",
   "metadata": {},
   "outputs": [],
   "source": []
  }
 ],
 "metadata": {
  "kernelspec": {
   "display_name": "Python 3 (ipykernel)",
   "language": "python",
   "name": "python3"
  },
  "language_info": {
   "codemirror_mode": {
    "name": "ipython",
    "version": 3
   },
   "file_extension": ".py",
   "mimetype": "text/x-python",
   "name": "python",
   "nbconvert_exporter": "python",
   "pygments_lexer": "ipython3",
   "version": "3.12.3"
  }
 },
 "nbformat": 4,
 "nbformat_minor": 5
}
